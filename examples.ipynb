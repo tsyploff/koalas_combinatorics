{
 "cells": [
  {
   "cell_type": "markdown",
   "metadata": {},
   "source": [
    "Прежде всего необходимо импортировать модуль"
   ]
  },
  {
   "cell_type": "code",
   "execution_count": 1,
   "metadata": {},
   "outputs": [],
   "source": [
    "from combinatorics import *"
   ]
  },
  {
   "cell_type": "markdown",
   "metadata": {},
   "source": [
    "Рассмотрим несколько простых примеров:"
   ]
  },
  {
   "cell_type": "code",
   "execution_count": 3,
   "metadata": {},
   "outputs": [
    {
     "name": "stdout",
     "output_type": "stream",
     "text": [
      "3628800\n",
      "3598695.6453224923\n",
      "3840\n",
      "35\n"
     ]
    }
   ],
   "source": [
    "print(c_factorial(10)) #3 628 800\n",
    "print(c_stirling(10))\n",
    "print(c_factorial2(10)) #3840\n",
    "print(c_binomial(7, 4)) #35"
   ]
  },
  {
   "cell_type": "code",
   "execution_count": 5,
   "metadata": {},
   "outputs": [
    {
     "name": "stdout",
     "output_type": "stream",
     "text": [
      "610\n",
      "541\n",
      "True\n",
      "207\n",
      "9\n",
      "10\n",
      "[2, 6, 5, 2, 7, 2]\n"
     ]
    }
   ],
   "source": [
    "print(c_fibonacci(15))\n",
    "n = c_prime(100)\n",
    "print(n, c_is_prime(n), sep = '\\n')\n",
    "print(c_power_mod(7, 1217, 1000))\n",
    "print(c_discrete_log(7, 15, 23))\n",
    "print(c_inverse(7, 23))\n",
    "print(c_factor_integer(78400))"
   ]
  },
  {
   "cell_type": "markdown",
   "metadata": {},
   "source": [
    "Рассмотрим несколько более сложных примеров"
   ]
  },
  {
   "cell_type": "code",
   "execution_count": 11,
   "metadata": {},
   "outputs": [
    {
     "name": "stdout",
     "output_type": "stream",
     "text": [
      "3.141592653589793\n",
      "3.06003454712689\n"
     ]
    }
   ],
   "source": [
    "from math import pi\n",
    "print(pi)\n",
    "print((c_factorial2(18)/c_factorial2(17))**2 * 2/(19)) #вычисление числа пи по формуле Валлиса"
   ]
  },
  {
   "cell_type": "markdown",
   "metadata": {},
   "source": [
    "Пусть в корзине лежит пять белых шаров и три чёрных, выбирается два шара. Найти вероятность, что оба шара чёрные. "
   ]
  },
  {
   "cell_type": "code",
   "execution_count": 23,
   "metadata": {},
   "outputs": [
    {
     "name": "stdout",
     "output_type": "stream",
     "text": [
      "0.10714285714285714\n"
     ]
    }
   ],
   "source": [
    "print(c_binomial(3, 2)/c_binomial(8, 2))"
   ]
  },
  {
   "cell_type": "markdown",
   "metadata": {},
   "source": [
    "Найдите сумму первых десяти элементов последовательности Фибоначчи"
   ]
  },
  {
   "cell_type": "code",
   "execution_count": 14,
   "metadata": {},
   "outputs": [
    {
     "name": "stdout",
     "output_type": "stream",
     "text": [
      "143\n",
      "143\n"
     ]
    }
   ],
   "source": [
    "print(sum([c_fibonacci(i) for i in range(1, 11)]))\n",
    "print(c_fibonacci(12) - 1)"
   ]
  },
  {
   "cell_type": "markdown",
   "metadata": {},
   "source": [
    "Реализуем протокол Диффи-Хеллмана"
   ]
  },
  {
   "cell_type": "code",
   "execution_count": 17,
   "metadata": {},
   "outputs": [
    {
     "name": "stdout",
     "output_type": "stream",
     "text": [
      "607\n",
      "101\n",
      "29\n",
      "31\n",
      "580\n",
      "151\n",
      "478\n"
     ]
    }
   ],
   "source": [
    "p = c_prime(111) #простое число\n",
    "a, b = 29, 31 #закрытые ключи\n",
    "g = 101 #порождающая точка\n",
    "A = c_power_mod(g, a, p) #открытый ключ Алисы\n",
    "B = c_power_mod(g, b, p) #открытый ключ Боба\n",
    "K = c_power_mod(A, b, p) #общие данные\n",
    "print(p, g, a, b, A, B, K, sep = '\\n')"
   ]
  },
  {
   "cell_type": "markdown",
   "metadata": {},
   "source": [
    "Предположим, нам удалось перехватить открытые ключи, простое число и порождающую точку. Взломаем протокол Диффи-Хеллмана"
   ]
  },
  {
   "cell_type": "code",
   "execution_count": 20,
   "metadata": {},
   "outputs": [
    {
     "name": "stdout",
     "output_type": "stream",
     "text": [
      "29\n",
      "29\n",
      "478\n",
      "478\n"
     ]
    }
   ],
   "source": [
    "print(a, c_discrete_log(g, A, p), sep = '\\n')\n",
    "print(K, c_power_mod(B, a, p), sep = '\\n')"
   ]
  },
  {
   "cell_type": "markdown",
   "metadata": {},
   "source": [
    "Решим уравнение 57х = 13 (mod 109)"
   ]
  },
  {
   "cell_type": "code",
   "execution_count": 22,
   "metadata": {},
   "outputs": [
    {
     "name": "stdout",
     "output_type": "stream",
     "text": [
      "572\n",
      "13\n"
     ]
    }
   ],
   "source": [
    "x = c_inverse(57, 109) * 13\n",
    "print(x, 57 * x % 109, sep = '\\n')"
   ]
  },
  {
   "cell_type": "markdown",
   "metadata": {},
   "source": [
    "Напишем функцию, которая считает радикал целого числа (произведение простых делителей)"
   ]
  },
  {
   "cell_type": "code",
   "execution_count": 24,
   "metadata": {},
   "outputs": [],
   "source": [
    "def radical(n):\n",
    "    s = 1\n",
    "    p = c_factor_integer(n)\n",
    "    for i in range(0, len(p), 2):\n",
    "        s *= p[i]\n",
    "    return s"
   ]
  },
  {
   "cell_type": "code",
   "execution_count": 26,
   "metadata": {},
   "outputs": [
    {
     "name": "stdout",
     "output_type": "stream",
     "text": [
      "30\n",
      "30\n"
     ]
    }
   ],
   "source": [
    "print(radical(120)) #30\n",
    "print(radical(30)) #30"
   ]
  }
 ],
 "metadata": {
  "kernelspec": {
   "display_name": "Python 3",
   "language": "python",
   "name": "python3"
  },
  "language_info": {
   "codemirror_mode": {
    "name": "ipython",
    "version": 3
   },
   "file_extension": ".py",
   "mimetype": "text/x-python",
   "name": "python",
   "nbconvert_exporter": "python",
   "pygments_lexer": "ipython3",
   "version": "3.5.3"
  }
 },
 "nbformat": 4,
 "nbformat_minor": 2
}
